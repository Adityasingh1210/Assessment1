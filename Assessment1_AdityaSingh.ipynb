{
  "cells": [
    {
      "cell_type": "code",
      "execution_count": 35,
      "metadata": {
        "id": "sWc2WQh3SkX4"
      },
      "outputs": [],
      "source": [
        "import logging\n",
        "import tweepy\n",
        "import json\n",
        "import pandas as pd\n"
      ]
    },
    {
      "cell_type": "code",
      "execution_count": 36,
      "metadata": {
        "id": "cMYGb8etSyQI"
      },
      "outputs": [],
      "source": [
        "from logging.handlers import RotatingFileHandler"
      ]
    },
    {
      "cell_type": "code",
      "execution_count": 37,
      "metadata": {
        "id": "nPqZDQVtS2gX"
      },
      "outputs": [],
      "source": [
        "Con_key =\"dA2lTekUNBsJcVJB2vzZC78ef\"\n",
        "Con_sec_key=\"Zrilh9R6n1WyRxn6hWxv19uhWmczicbXDTKqzyP9SZ3y0QBNSl\"\n",
        "Access_token=\"1464112533166510081-9FPPb2dOCEZPgl84TJcWdc9rDxPwrC\"\n",
        "Access_token_Secret=\"JeB8xFOiPzaYPzKCu4bf8vix4S5zktQdLRNgkV7kQ88Vt\""
      ]
    },
    {
      "cell_type": "code",
      "execution_count": 38,
      "metadata": {
        "id": "jNbunGIrS5qp"
      },
      "outputs": [],
      "source": [
        "auth = tweepy.OAuthHandler(Con_key,Con_sec_key)\n",
        "auth.set_access_token(Access_token,Access_token_Secret)\n",
        "api=tweepy.API(auth)"
      ]
    },
    {
      "cell_type": "code",
      "execution_count": 39,
      "metadata": {
        "colab": {
          "base_uri": "https://localhost:8080/"
        },
        "id": "cod-yinNS75G",
        "outputId": "ade0dbd1-49c0-4b31-c2e0-73f84835a76a"
      },
      "outputs": [
        {
          "name": "stdout",
          "output_type": "stream",
          "text": [
            "No Of Tweets1000\n",
            "Keyword You Want To Searchnetflix\n"
          ]
        }
      ],
      "source": [
        "nft=int(input(\"No Of Tweets\"))\n",
        "Keyword=input(\"Keyword You Want To Search\")"
      ]
    },
    {
      "cell_type": "code",
      "execution_count": 40,
      "metadata": {
        "id": "0WZRwr7MS7s9"
      },
      "outputs": [],
      "source": [
        "\n",
        "logger = logging.getLogger('my_logger')\n",
        "logger.setLevel(logging.DEBUG)\n",
        "handler = RotatingFileHandler('log.log', maxBytes=5000000, backupCount=10)\n",
        "logger.addHandler(handler)\n",
        "for i in tweepy.Cursor(api.search,q=Keyword,tweet_mode=\"extended\").items(nft):\n",
        "\n",
        "    logger.debug(i._json)\n"
      ]
    },
    {
      "cell_type": "code",
      "execution_count": 41,
      "metadata": {
        "id": "dNbUX9voxIR9"
      },
      "outputs": [],
      "source": [
        "def select_text(i):\n",
        "    ''' Assigns the main text to only one column depending\n",
        "        on whether the tweet is a RT/quote or not'''\n",
        "    \n",
        "    tweets_list = []\n",
        "    \n",
        "    # Iterate through each tweet\n",
        "    for tweet_obj in i:\n",
        "        \n",
        "        if 'retweeted_status-extended_tweet-full_text' in tweet_obj:\n",
        "            tweet_obj['text'] = \\\n",
        "                        tweet_obj['retweeted_status-extended_tweet-full_text']\n",
        "        \n",
        "        elif 'retweeted_status-text' in tweet_obj:\n",
        "            tweet_obj['text'] = tweet_obj['retweeted_status-text']\n",
        "            \n",
        "        elif 'extended_tweet-full_text' in tweet_obj:\n",
        "                    tweet_obj['text'] = tweet_obj['extended_tweet-full_text']\n",
        "                \n",
        "        tweets_list.append(tweet_obj)\n",
        "        \n",
        "    return tweets_list"
      ]
    },
    {
      "cell_type": "code",
      "execution_count": 42,
      "metadata": {
        "id": "59Yta4hxS7nJ"
      },
      "outputs": [],
      "source": [
        "def flatten_tweets(i):\n",
        "    tweets_list = []\n",
        "    for tweet_obj in i:\n",
        "        tweet_obj['user-screen_name'] = tweet_obj['user']['screen_name']\n",
        "        \n",
        "        # Store the user location\n",
        "        tweet_obj['user-location'] = tweet_obj['user']['location']\n",
        "    \n",
        "        \n",
        "        # Check if this is a 140+ character tweet\n",
        "        if 'extended_tweet' in tweet_obj:\n",
        "            # Store the extended tweet text in 'extended_tweet-full_text'\n",
        "            tweet_obj['extended_tweet-full_text'] = \\\n",
        "                                    tweet_obj['extended_tweet']['full_text']\n",
        "    \n",
        "        if 'retweeted_status' in tweet_obj:\n",
        "            # Store the retweet user screen name in \n",
        "            # 'retweeted_status-user-screen_name'\n",
        "            tweet_obj['retweeted_status-user-screen_name'] = \\\n",
        "                        tweet_obj['retweeted_status']['user']['screen_name']\n",
        "\n",
        "            # Store the retweet text in 'retweeted_status-text'\n",
        "            tweet_obj['retweeted_status-text'] = \\\n",
        "                                        tweet_obj['retweeted_status']['text']\n",
        "    \n",
        "            if 'extended_tweet' in tweet_obj['retweeted_status']:\n",
        "                # Store the extended retweet text in \n",
        "                #'retweeted_status-extended_tweet-full_text'\n",
        "                tweet_obj['retweeted_status-extended_tweet-full_text'] = \\\n",
        "                tweet_obj['retweeted_status']['extended_tweet']['full_text']\n",
        "                \n",
        "        if 'quoted_status' in tweet_obj:\n",
        "            # Store the retweet user screen name in \n",
        "            #'retweeted_status-user-screen_name'\n",
        "            tweet_obj['quoted_status-user-screen_name'] = \\\n",
        "                            tweet_obj['quoted_status']['user']['screen_name']\n",
        "\n",
        "            # Store the retweet text in 'retweeted_status-text'\n",
        "            tweet_obj['quoted_status-text'] = \\\n",
        "                                            tweet_obj['quoted_status']['text']\n",
        "    \n",
        "            if 'extended_tweet' in tweet_obj['quoted_status']:\n",
        "                # Store the extended retweet text in \n",
        "                #'retweeted_status-extended_tweet-full_text'\n",
        "                tweet_obj['quoted_status-extended_tweet-full_text'] = \\\n",
        "                    tweet_obj['quoted_status']['extended_tweet']['full_text']\n",
        "        \n",
        "      \n",
        "        if 'place' in tweet_obj:\n",
        "            # Store the country code in 'place-country_code'\n",
        "            try:\n",
        "                tweet_obj['place-country'] = \\\n",
        "                                            tweet_obj['place']['country']\n",
        "                \n",
        "                tweet_obj['place-country_code'] = \\\n",
        "                                            tweet_obj['place']['country_code']\n",
        "                \n",
        "                tweet_obj['location-coordinates'] = \\\n",
        "                            tweet_obj['place']['bounding_box']['coordinates']\n",
        "            except: pass\n",
        "        \n",
        "        tweets_list.append(tweet_obj)\n",
        "        \n",
        "    return tweets_list"
      ]
    },
    {
      "cell_type": "code",
      "execution_count": 26,
      "metadata": {
        "id": "Zfd-4qCVdzSh",
        "colab": {
          "base_uri": "https://localhost:8080/",
          "height": 356
        },
        "outputId": "974d741a-fc44-4c1f-cd2a-0cc4ecdfc37f"
      },
      "outputs": [
        {
          "output_type": "error",
          "ename": "TypeError",
          "evalue": "ignored",
          "traceback": [
            "\u001b[0;31m---------------------------------------------------------------------------\u001b[0m",
            "\u001b[0;31mTypeError\u001b[0m                                 Traceback (most recent call last)",
            "\u001b[0;32m<ipython-input-26-27b8f08b80e5>\u001b[0m in \u001b[0;36m<module>\u001b[0;34m()\u001b[0m\n\u001b[1;32m      1\u001b[0m \u001b[0;31m# flatten tweets\u001b[0m\u001b[0;34m\u001b[0m\u001b[0;34m\u001b[0m\u001b[0;34m\u001b[0m\u001b[0m\n\u001b[0;32m----> 2\u001b[0;31m \u001b[0mtweets\u001b[0m \u001b[0;34m=\u001b[0m \u001b[0mflatten_tweets\u001b[0m\u001b[0;34m(\u001b[0m\u001b[0mi\u001b[0m\u001b[0;34m)\u001b[0m\u001b[0;34m\u001b[0m\u001b[0;34m\u001b[0m\u001b[0m\n\u001b[0m\u001b[1;32m      3\u001b[0m \u001b[0;34m\u001b[0m\u001b[0m\n\u001b[1;32m      4\u001b[0m \u001b[0;31m# select text\u001b[0m\u001b[0;34m\u001b[0m\u001b[0;34m\u001b[0m\u001b[0;34m\u001b[0m\u001b[0m\n\u001b[1;32m      5\u001b[0m \u001b[0mtweets\u001b[0m \u001b[0;34m=\u001b[0m \u001b[0mselect_text\u001b[0m\u001b[0;34m(\u001b[0m\u001b[0mtweets\u001b[0m\u001b[0;34m)\u001b[0m\u001b[0;34m\u001b[0m\u001b[0;34m\u001b[0m\u001b[0m\n",
            "\u001b[0;32m<ipython-input-22-ffc2cc1ea1b2>\u001b[0m in \u001b[0;36mflatten_tweets\u001b[0;34m(i)\u001b[0m\n\u001b[1;32m      6\u001b[0m \u001b[0;34m\u001b[0m\u001b[0m\n\u001b[1;32m      7\u001b[0m     \u001b[0;31m# Iterate through each tweet\u001b[0m\u001b[0;34m\u001b[0m\u001b[0;34m\u001b[0m\u001b[0;34m\u001b[0m\u001b[0m\n\u001b[0;32m----> 8\u001b[0;31m     \u001b[0;32mfor\u001b[0m \u001b[0mtweet_obj\u001b[0m \u001b[0;32min\u001b[0m \u001b[0mi\u001b[0m\u001b[0;34m:\u001b[0m\u001b[0;34m\u001b[0m\u001b[0;34m\u001b[0m\u001b[0m\n\u001b[0m\u001b[1;32m      9\u001b[0m \u001b[0;34m\u001b[0m\u001b[0m\n\u001b[1;32m     10\u001b[0m         \u001b[0;34m''' User info'''\u001b[0m\u001b[0;34m\u001b[0m\u001b[0;34m\u001b[0m\u001b[0m\n",
            "\u001b[0;31mTypeError\u001b[0m: 'Status' object is not iterable"
          ]
        }
      ],
      "source": [
        "tweets = flatten_tweets(i)\n",
        "tweets = select_text(tweets)\n",
        "columns = ['text', 'lang', 'user-location', 'place-country', \n",
        "           'place-country_code', 'location-coordinates', \n",
        "           'user-screen_name']\n",
        "\n",
        "# Create a DataFrame from `tweets`\n",
        "df_tweets = pd.DataFrame(tweets, columns=columns)\n",
        "# replaces NaNs by Nones\n",
        "df_tweets.where(pd.notnull(df_tweets), None, inplace=True)"
      ]
    },
    {
      "cell_type": "code",
      "execution_count": null,
      "metadata": {
        "id": "1VbdfSS9c8xL"
      },
      "outputs": [],
      "source": [
        ""
      ]
    }
  ],
  "metadata": {
    "colab": {
      "collapsed_sections": [],
      "name": "Assessment1_AdityaSingh.ipynb",
      "provenance": []
    },
    "kernelspec": {
      "display_name": "Python 3",
      "name": "python3"
    },
    "language_info": {
      "name": "python"
    }
  },
  "nbformat": 4,
  "nbformat_minor": 0
}